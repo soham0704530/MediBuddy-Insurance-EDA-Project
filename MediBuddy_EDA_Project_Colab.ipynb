{
 "cells": [
  {
   "cell_type": "code",
   "execution_count": null,
   "id": "ef5bd6cf",
   "metadata": {},
   "outputs": [],
   "source": [
    "# MediBuddy Health Insurance EDA Project\n",
    "# --------------------------------------"
   ]
  },
  {
   "cell_type": "code",
   "execution_count": null,
   "id": "8ebcb83b",
   "metadata": {},
   "outputs": [],
   "source": [
    "# Step 1: Import necessary libraries\n",
    "import pandas as pd\n",
    "import numpy as np\n",
    "import matplotlib.pyplot as plt\n",
    "import seaborn as sns"
   ]
  },
  {
   "cell_type": "code",
   "execution_count": null,
   "id": "70f9ca56",
   "metadata": {},
   "outputs": [],
   "source": [
    "# Set styles\n",
    "sns.set(style='whitegrid')\n",
    "plt.rcParams['figure.figsize'] = (10, 6)"
   ]
  },
  {
   "cell_type": "code",
   "execution_count": null,
   "id": "ea3f70fc",
   "metadata": {},
   "outputs": [],
   "source": [
    "# Step 2: Load the datasets\n",
    "# Note: Replace 'age_bmi.csv' and 'personal_details.csv' with your actual file names\n",
    "# df1 = pd.read_csv('age_bmi.csv')\n",
    "# df2 = pd.read_csv('personal_details.csv')"
   ]
  },
  {
   "cell_type": "code",
   "execution_count": null,
   "id": "0d5210ef",
   "metadata": {},
   "outputs": [],
   "source": [
    "# For demonstration, we'll simulate a merged dataset\n",
    "df = pd.read_csv('https://raw.githubusercontent.com/stedy/Machine-Learning-with-R-datasets/master/insurance.csv')"
   ]
  },
  {
   "cell_type": "code",
   "execution_count": null,
   "id": "a8656b32",
   "metadata": {},
   "outputs": [],
   "source": [
    "# Step 3: Initial Data Inspection\n",
    "print(df.head())\n",
    "print(df.info())\n",
    "print(df.describe())\n",
    "print(\"Missing values per column:\\n\", df.isnull().sum())"
   ]
  },
  {
   "cell_type": "code",
   "execution_count": null,
   "id": "257c1df4",
   "metadata": {},
   "outputs": [],
   "source": [
    "# Step 4: Data Cleaning\n",
    "# Convert categorical columns\n",
    "df['sex'] = df['sex'].astype('category')\n",
    "df['smoker'] = df['smoker'].astype('category')\n",
    "df['region'] = df['region'].astype('category')"
   ]
  },
  {
   "cell_type": "code",
   "execution_count": null,
   "id": "30415c31",
   "metadata": {},
   "outputs": [],
   "source": [
    "# Step 5: Univariate Analysis\n",
    "# Distribution plots\n",
    "df['age'].hist(bins=30, color='skyblue')\n",
    "plt.title('Age Distribution')\n",
    "plt.xlabel('Age')\n",
    "plt.ylabel('Frequency')\n",
    "plt.show()"
   ]
  },
  {
   "cell_type": "code",
   "execution_count": null,
   "id": "642819c5",
   "metadata": {},
   "outputs": [],
   "source": [
    "df['bmi'].hist(bins=30, color='lightgreen')\n",
    "plt.title('BMI Distribution')\n",
    "plt.xlabel('BMI')\n",
    "plt.ylabel('Frequency')\n",
    "plt.show()"
   ]
  },
  {
   "cell_type": "code",
   "execution_count": null,
   "id": "cd58bb0f",
   "metadata": {},
   "outputs": [],
   "source": [
    "df['charges'].hist(bins=30, color='salmon')\n",
    "plt.title('Charges Distribution')\n",
    "plt.xlabel('Charges')\n",
    "plt.ylabel('Frequency')\n",
    "plt.show()"
   ]
  },
  {
   "cell_type": "code",
   "execution_count": null,
   "id": "4f2804f7",
   "metadata": {},
   "outputs": [],
   "source": [
    "# Count plots\n",
    "sns.countplot(x='sex', data=df)\n",
    "plt.title('Gender Distribution')\n",
    "plt.show()"
   ]
  },
  {
   "cell_type": "code",
   "execution_count": null,
   "id": "30242f32",
   "metadata": {},
   "outputs": [],
   "source": [
    "sns.countplot(x='smoker', data=df)\n",
    "plt.title('Smoker Status')\n",
    "plt.show()"
   ]
  },
  {
   "cell_type": "code",
   "execution_count": null,
   "id": "6b4142f3",
   "metadata": {},
   "outputs": [],
   "source": [
    "sns.countplot(x='region', data=df)\n",
    "plt.title('Region Distribution')\n",
    "plt.show()"
   ]
  },
  {
   "cell_type": "code",
   "execution_count": null,
   "id": "fbb33d2c",
   "metadata": {},
   "outputs": [],
   "source": [
    "sns.countplot(x='children', data=df)\n",
    "plt.title('Number of Children')\n",
    "plt.show()"
   ]
  },
  {
   "cell_type": "code",
   "execution_count": null,
   "id": "90aba907",
   "metadata": {},
   "outputs": [],
   "source": [
    "# Step 6: Bivariate Analysis\n",
    "# Boxplots\n",
    "sns.boxplot(x='sex', y='charges', data=df)\n",
    "plt.title('Charges by Gender')\n",
    "plt.show()"
   ]
  },
  {
   "cell_type": "code",
   "execution_count": null,
   "id": "10422411",
   "metadata": {},
   "outputs": [],
   "source": [
    "sns.boxplot(x='smoker', y='charges', data=df)\n",
    "plt.title('Charges by Smoker Status')\n",
    "plt.show()"
   ]
  },
  {
   "cell_type": "code",
   "execution_count": null,
   "id": "349a556e",
   "metadata": {},
   "outputs": [],
   "source": [
    "sns.boxplot(x='region', y='charges', data=df)\n",
    "plt.title('Charges by Region')\n",
    "plt.show()"
   ]
  },
  {
   "cell_type": "code",
   "execution_count": null,
   "id": "19fb7947",
   "metadata": {},
   "outputs": [],
   "source": [
    "sns.boxplot(x='children', y='charges', data=df)\n",
    "plt.title('Charges by Number of Children')\n",
    "plt.show()"
   ]
  },
  {
   "cell_type": "code",
   "execution_count": null,
   "id": "673400eb",
   "metadata": {},
   "outputs": [],
   "source": [
    "# Scatter plots\n",
    "sns.scatterplot(x='age', y='charges', hue='smoker', data=df)\n",
    "plt.title('Age vs Charges')\n",
    "plt.show()"
   ]
  },
  {
   "cell_type": "code",
   "execution_count": null,
   "id": "2a3bc1fb",
   "metadata": {},
   "outputs": [],
   "source": [
    "sns.scatterplot(x='bmi', y='charges', hue='smoker', data=df)\n",
    "plt.title('BMI vs Charges')\n",
    "plt.show()"
   ]
  },
  {
   "cell_type": "code",
   "execution_count": null,
   "id": "ab209c2e",
   "metadata": {},
   "outputs": [],
   "source": [
    "# Regression plots\n",
    "sns.regplot(x='age', y='charges', data=df, scatter_kws={'alpha':0.3})\n",
    "plt.title('Regression: Age vs Charges')\n",
    "plt.show()"
   ]
  },
  {
   "cell_type": "code",
   "execution_count": null,
   "id": "2032ae2e",
   "metadata": {},
   "outputs": [],
   "source": [
    "sns.regplot(x='bmi', y='charges', data=df, scatter_kws={'alpha':0.3})\n",
    "plt.title('Regression: BMI vs Charges')\n",
    "plt.show()"
   ]
  },
  {
   "cell_type": "code",
   "execution_count": null,
   "id": "6d7c34d0",
   "metadata": {},
   "outputs": [],
   "source": [
    "# Step 7: Correlation Analysis\n",
    "numeric_df = df.select_dtypes(include=[np.number])\n",
    "corr = numeric_df.corr()\n",
    "sns.heatmap(corr, annot=True, cmap='coolwarm')\n",
    "plt.title('Correlation Matrix')\n",
    "plt.show()"
   ]
  }
 ],
 "metadata": {},
 "nbformat": 4,
 "nbformat_minor": 5
}